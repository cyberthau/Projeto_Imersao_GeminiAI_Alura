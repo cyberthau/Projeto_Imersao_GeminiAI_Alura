{
  "nbformat": 4,
  "nbformat_minor": 0,
  "metadata": {
    "colab": {
      "provenance": [],
      "authorship_tag": "ABX9TyMe+wTzNQCSedSPgcGJ9bbW",
      "include_colab_link": true
    },
    "kernelspec": {
      "name": "python3",
      "display_name": "Python 3"
    },
    "language_info": {
      "name": "python"
    }
  },
  "cells": [
    {
      "cell_type": "markdown",
      "metadata": {
        "id": "view-in-github",
        "colab_type": "text"
      },
      "source": [
        "<a href=\"https://colab.research.google.com/github/cyberthau/Projeto_Imersao_GeminiAI_Alura/blob/main/ProjetoImersaoAlura.ipynb\" target=\"_parent\"><img src=\"https://colab.research.google.com/assets/colab-badge.svg\" alt=\"Open In Colab\"/></a>"
      ]
    },
    {
      "cell_type": "code",
      "execution_count": 1,
      "metadata": {
        "id": "GFiMscAgQjay"
      },
      "outputs": [],
      "source": [
        "!pip install -U -q google-generativeai"
      ]
    },
    {
      "cell_type": "code",
      "source": [
        "#Importações e configurações iniciais\n",
        "import numpy as np\n",
        "import pandas as pd\n",
        "import google.generativeai as genai\n",
        "\n",
        "GOOGLE_API_KEY=\"chave_secreta\"\n",
        "genai.configure(api_key=GOOGLE_API_KEY)"
      ],
      "metadata": {
        "id": "ZeIvwNV3Q8jy"
      },
      "execution_count": 2,
      "outputs": []
    },
    {
      "cell_type": "code",
      "source": [
        "#LISTAGEM DE MODELOS DISPONIVEIS DO GEMINI\n",
        "for m in genai.list_models():\n",
        "  if 'generateContent' in m.supported_generation_methods:\n",
        "    print(m.name)"
      ],
      "metadata": {
        "colab": {
          "base_uri": "https://localhost:8080/",
          "height": 139
        },
        "id": "xrY0ugZ9RNqC",
        "outputId": "9d55a1f2-c3ce-40c4-bb74-ed9f277acca6"
      },
      "execution_count": 5,
      "outputs": [
        {
          "output_type": "stream",
          "name": "stdout",
          "text": [
            "models/gemini-1.0-pro\n",
            "models/gemini-1.0-pro-001\n",
            "models/gemini-1.0-pro-latest\n",
            "models/gemini-1.0-pro-vision-latest\n",
            "models/gemini-1.5-pro-latest\n",
            "models/gemini-pro\n",
            "models/gemini-pro-vision\n"
          ]
        }
      ]
    },
    {
      "cell_type": "code",
      "source": [
        "#LISTAGEM DE MODELOS DISPONIVEIS DO EMBED\n",
        "for m in genai.list_models():\n",
        "  if 'embedContent' in m.supported_generation_methods:\n",
        "    print(m.name)"
      ],
      "metadata": {
        "colab": {
          "base_uri": "https://localhost:8080/",
          "height": 52
        },
        "id": "niiIxqv9RW3i",
        "outputId": "5fae7aa9-4ab7-4f32-dcbf-bc607db45334"
      },
      "execution_count": 4,
      "outputs": [
        {
          "output_type": "stream",
          "name": "stdout",
          "text": [
            "models/embedding-001\n",
            "models/text-embedding-004\n"
          ]
        }
      ]
    },
    {
      "cell_type": "code",
      "source": [
        "#CONFIGURAÇÃO DA TEMPERATURA E VERSÃO\n",
        "generation_config = {\n",
        "    \"candidate_count\": 1,\n",
        "    \"temperature\": 0.5,\n",
        "}"
      ],
      "metadata": {
        "id": "AdvTvzoSRgmJ"
      },
      "execution_count": 6,
      "outputs": []
    },
    {
      "cell_type": "code",
      "source": [
        "#CONFIGURAÇÃO DE SEGURANÇA DIGITAL\n",
        "safety_settings = {\n",
        "    'HATE': 'BLOCK_MEDIUM_AND_ABOVE',\n",
        "    'HARASSMENT': 'BLOCK_MEDIUM_AND_ABOVE',\n",
        "    'SEXUAL' : 'BLOCK_MEDIUM_AND_ABOVE',\n",
        "    'DANGEROUS' : 'BLOCK_MEDIUM_AND_ABOVE',\n",
        "}"
      ],
      "metadata": {
        "id": "hd0ajm_YR6Eh"
      },
      "execution_count": 7,
      "outputs": []
    },
    {
      "cell_type": "code",
      "source": [
        "#INICIANDO O MODELO\n",
        "model = genai.GenerativeModel(model_name='gemini-1.0-pro',\n",
        "                                  generation_config=generation_config,\n",
        "                                  safety_settings=safety_settings,)"
      ],
      "metadata": {
        "id": "1z7UtplZUmNH"
      },
      "execution_count": 8,
      "outputs": []
    },
    {
      "cell_type": "code",
      "source": [
        "#TEMA DO CHATBOT - CONCURSO NACIONAL UNIFICADO - RESUMO SOBRE OS TEMAS DO CONCURSO\n",
        "response = model.generate_content(\"Vamos aprender sobre os temas abordados no Concurso nacional Unificado.\")\n",
        "print(response.text)"
      ],
      "metadata": {
        "colab": {
          "base_uri": "https://localhost:8080/",
          "height": 902
        },
        "id": "HlvZmYs8UtIr",
        "outputId": "84858d4b-fdc6-405f-bba7-8bff58027d02"
      },
      "execution_count": 16,
      "outputs": [
        {
          "output_type": "stream",
          "name": "stdout",
          "text": [
            "**Temas Abordados no Concurso Nacional Unificado (CNU)**\n",
            "\n",
            "**Língua Portuguesa**\n",
            "* Compreensão e interpretação de textos\n",
            "* Gramática\n",
            "* Ortografia\n",
            "* Redação\n",
            "\n",
            "**Matemática**\n",
            "* Aritmética\n",
            "* Álgebra\n",
            "* Geometria\n",
            "* Probabilidade e Estatística\n",
            "\n",
            "**Conhecimentos Gerais**\n",
            "* História do Brasil\n",
            "* Geografia do Brasil\n",
            "* Atualidades\n",
            "* Política\n",
            "* Economia\n",
            "* Cultura\n",
            "\n",
            "**Conhecimentos Específicos**\n",
            "* Varia de acordo com o cargo pretendido, podendo abranger áreas como:\n",
            "    * Administração\n",
            "    * Contabilidade\n",
            "    * Direito\n",
            "    * Engenharia\n",
            "    * Informática\n",
            "    * Medicina\n",
            "    * Odontologia\n",
            "    * Psicologia\n",
            "    * Serviço Social\n",
            "\n",
            "**Conhecimentos de Informática**\n",
            "* Conceitos básicos de informática\n",
            "* Sistemas operacionais\n",
            "* Processadores de texto\n",
            "* Planilhas eletrônicas\n",
            "* Apresentações\n",
            "\n",
            "**Conhecimentos de Legislação**\n",
            "* Constituição Federal\n",
            "* Código Penal\n",
            "* Código Civil\n",
            "* Legislação específica relacionada ao cargo pretendido\n",
            "\n",
            "**Outras Áreas (dependendo do cargo)**\n",
            "* Línguas estrangeiras\n",
            "* Conhecimentos técnicos específicos\n",
            "* Habilidades práticas\n"
          ]
        }
      ]
    },
    {
      "cell_type": "code",
      "source": [
        "#VARIAVEL PARA SALVAR O HISTÓRICO DE PESQUISA\n",
        "chat = model.start_chat(history=[])"
      ],
      "metadata": {
        "id": "ecDa1B9dVFpD"
      },
      "execution_count": 17,
      "outputs": []
    },
    {
      "cell_type": "code",
      "source": [
        "#Melhorando a visualização\n",
        "#Código disponível em https://ai.google.dev/tutorials/python_quickstart#import_packages\n",
        "import textwrap\n",
        "from IPython.display import display\n",
        "from IPython.display import Markdown\n",
        "\n",
        "def to_markdown(text):\n",
        "  text = text.replace('•', '  *')\n",
        "  return Markdown(textwrap.indent(text, '> ', predicate=lambda _: True))\n"
      ],
      "metadata": {
        "id": "LnImkYFXYf8a"
      },
      "execution_count": 18,
      "outputs": []
    },
    {
      "cell_type": "code",
      "source": [
        "#CHAT COM RESUMO DO TEMA ESCOLHIDO\n",
        "prompt = input(\"Sobre qual assunto iremos aprender? \")\n",
        "\n",
        "while prompt != \"fim\":\n",
        "  response = chat.send_message(prompt)\n",
        "  print(\"Resposta: \", response.text, '\\n\\n')\n",
        "  prompt = input(\"Sobre qual assunto iremos aprender? \")"
      ],
      "metadata": {
        "colab": {
          "base_uri": "https://localhost:8080/",
          "height": 1000
        },
        "id": "1G94d5p2VfCI",
        "outputId": "43663aeb-bafc-4464-c5f7-71973169106e"
      },
      "execution_count": 19,
      "outputs": [
        {
          "name": "stdout",
          "output_type": "stream",
          "text": [
            "Sobre qual assunto iremos aprender? conhecimentos de legislação\n",
            "Resposta:  **Legislação Brasileira**\n",
            "\n",
            "**Constituição Federal de 1988**\n",
            "\n",
            "* Lei fundamental do Brasil, que estabelece os direitos e deveres dos cidadãos, a organização do Estado e os princípios do ordenamento jurídico.\n",
            "\n",
            "**Código Civil**\n",
            "\n",
            "* Lei que regula as relações privadas entre indivíduos, como contratos, família e propriedade.\n",
            "\n",
            "**Código Penal**\n",
            "\n",
            "* Lei que define os crimes e as respectivas penas.\n",
            "\n",
            "**Código de Processo Civil**\n",
            "\n",
            "* Lei que estabelece as normas para o processo judicial cível.\n",
            "\n",
            "**Código de Processo Penal**\n",
            "\n",
            "* Lei que estabelece as normas para o processo judicial penal.\n",
            "\n",
            "**Legislação Trabalhista**\n",
            "\n",
            "* Conjunto de leis que regulam as relações entre empregadores e empregados, como a Consolidação das Leis do Trabalho (CLT).\n",
            "\n",
            "**Legislação Tributária**\n",
            "\n",
            "* Conjunto de leis que regulam os tributos, como o Código Tributário Nacional (CTN).\n",
            "\n",
            "**Legislação Ambiental**\n",
            "\n",
            "* Conjunto de leis que regulam a proteção ao meio ambiente, como a Lei de Crimes Ambientais.\n",
            "\n",
            "**Legislação Eleitoral**\n",
            "\n",
            "* Conjunto de leis que regulam as eleições e o processo eleitoral.\n",
            "\n",
            "**Legislação Administrativa**\n",
            "\n",
            "* Conjunto de leis que regulam a administração pública, como a Lei de Licitações e Contratos.\n",
            "\n",
            "**Legislação Internacional**\n",
            "\n",
            "* Tratados e convenções internacionais que o Brasil ratificou e que fazem parte do ordenamento jurídico brasileiro.\n",
            "\n",
            "**Princípios Gerais do Direito**\n",
            "\n",
            "* Princípios fundamentais que orientam a interpretação e aplicação das leis, como o princípio da legalidade, o princípio da igualdade e o princípio da proporcionalidade.\n",
            "\n",
            "**Fontes do Direito**\n",
            "\n",
            "* Leis, decretos, tratados, costumes e jurisprudência.\n",
            "\n",
            "**Interpretação da Lei**\n",
            "\n",
            "* Processo de compreensão e aplicação das leis, que pode ser literal, sistemática, histórica ou teleológica.\n",
            "\n",
            "**Hierarquia das Normas**\n",
            "\n",
            "* Ordem de importância das normas jurídicas, com a Constituição Federal no topo. \n",
            "\n",
            "\n",
            "Sobre qual assunto iremos aprender? Legislação tributária\n",
            "Resposta:  **Legislação Tributária Brasileira**\n",
            "\n",
            "**Constituição Federal de 1988**\n",
            "\n",
            "* Estabelece os princípios gerais do sistema tributário brasileiro, como a legalidade, a isonomia e a capacidade contributiva.\n",
            "\n",
            "**Código Tributário Nacional (CTN)**\n",
            "\n",
            "* Lei que regulamenta o sistema tributário brasileiro, definindo conceitos, princípios e normas gerais.\n",
            "\n",
            "**Leis Complementares**\n",
            "\n",
            "* Leis que complementam o CTN, como a Lei Complementar 87/1996 (ICMS) e a Lei Complementar 105/2001 (IPTU).\n",
            "\n",
            "**Leis Ordinárias**\n",
            "\n",
            "* Leis que criam ou alteram tributos, como a Lei 9.430/1996 (IRPF).\n",
            "\n",
            "**Medidas Provisórias**\n",
            "\n",
            "* Atos normativos com força de lei que podem tratar de matéria tributária.\n",
            "\n",
            "**Decretos**\n",
            "\n",
            "* Atos normativos do Poder Executivo que podem regulamentar matéria tributária.\n",
            "\n",
            "**Portarias**\n",
            "\n",
            "* Atos normativos de órgãos administrativos que podem esclarecer ou complementar normas tributárias.\n",
            "\n",
            "**Principais Tributos**\n",
            "\n",
            "* **Impostos:** IRPF, IRPJ, IPI, ICMS, ISS, ITR, IOF\n",
            "* **Contribuições:** INSS, PIS, COFINS, CSLL\n",
            "* **Taxas:** Taxas de serviços públicos\n",
            "\n",
            "**Princípios do Sistema Tributário**\n",
            "\n",
            "* **Legalidade:** Os tributos só podem ser criados ou alterados por lei.\n",
            "* **Isonomia:** Todos os contribuintes devem ser tratados igualmente perante a lei tributária.\n",
            "* **Capacidade Contributiva:** Os tributos devem ser proporcionais à capacidade econômica do contribuinte.\n",
            "* **Não Confisco:** Os tributos não podem confiscar a propriedade do contribuinte.\n",
            "* **Finalidade:** Os tributos devem ser destinados ao financiamento das despesas públicas.\n",
            "\n",
            "**Interpretação da Legislação Tributária**\n",
            "\n",
            "* Deve ser interpretada de forma literal, sistemática e teleológica, sempre buscando a aplicação dos princípios tributários.\n",
            "\n",
            "**Hierarquia das Normas Tributárias**\n",
            "\n",
            "* Constituição Federal > Leis Complementares > Leis Ordinárias > Medidas Provisórias > Decretos > Portarias \n",
            "\n",
            "\n",
            "Sobre qual assunto iremos aprender? fim\n"
          ]
        }
      ]
    },
    {
      "cell_type": "code",
      "source": [
        "chat"
      ],
      "metadata": {
        "colab": {
          "base_uri": "https://localhost:8080/"
        },
        "id": "mDlo5bB_Y5dJ",
        "outputId": "525ee642-b909-49fb-b912-6d879ae52a7e"
      },
      "execution_count": 20,
      "outputs": [
        {
          "output_type": "execute_result",
          "data": {
            "text/plain": [
              "ChatSession(\n",
              "    model=genai.GenerativeModel(\n",
              "        model_name='models/gemini-1.0-pro',\n",
              "        generation_config={'candidate_count': 1, 'temperature': 0.5},\n",
              "        safety_settings={<HarmCategory.HARM_CATEGORY_HATE_SPEECH: 8>: <HarmBlockThreshold.BLOCK_MEDIUM_AND_ABOVE: 2>, <HarmCategory.HARM_CATEGORY_HARASSMENT: 7>: <HarmBlockThreshold.BLOCK_MEDIUM_AND_ABOVE: 2>, <HarmCategory.HARM_CATEGORY_SEXUALLY_EXPLICIT: 9>: <HarmBlockThreshold.BLOCK_MEDIUM_AND_ABOVE: 2>, <HarmCategory.HARM_CATEGORY_DANGEROUS_CONTENT: 10>: <HarmBlockThreshold.BLOCK_MEDIUM_AND_ABOVE: 2>},\n",
              "        tools=None,\n",
              "        system_instruction=None,\n",
              "    ),\n",
              "    history=[glm.Content({'parts': [{'text': 'conhecimentos de legislação'}], 'role': 'user'}), glm.Content({'parts': [{'text': '**Legislação...eral no topo.'}], 'role': 'model'}), glm.Content({'parts': [{'text': 'Legislação tributária'}], 'role': 'user'}), glm.Content({'parts': [{'text': '**Legislação...s > Portarias'}], 'role': 'model'})]\n",
              ")"
            ]
          },
          "metadata": {},
          "execution_count": 20
        }
      ]
    },
    {
      "cell_type": "code",
      "source": [
        "chat.history"
      ],
      "metadata": {
        "colab": {
          "base_uri": "https://localhost:8080/"
        },
        "id": "LphVrBJyY6EM",
        "outputId": "63efe6c0-7583-4d37-f004-871523b31c68"
      },
      "execution_count": 21,
      "outputs": [
        {
          "output_type": "execute_result",
          "data": {
            "text/plain": [
              "[parts {\n",
              "   text: \"conhecimentos de legisla\\303\\247\\303\\243o\"\n",
              " }\n",
              " role: \"user\",\n",
              " parts {\n",
              "   text: \"**Legisla\\303\\247\\303\\243o Brasileira**\\n\\n**Constitui\\303\\247\\303\\243o Federal de 1988**\\n\\n* Lei fundamental do Brasil, que estabelece os direitos e deveres dos cidad\\303\\243os, a organiza\\303\\247\\303\\243o do Estado e os princ\\303\\255pios do ordenamento jur\\303\\255dico.\\n\\n**C\\303\\263digo Civil**\\n\\n* Lei que regula as rela\\303\\247\\303\\265es privadas entre indiv\\303\\255duos, como contratos, fam\\303\\255lia e propriedade.\\n\\n**C\\303\\263digo Penal**\\n\\n* Lei que define os crimes e as respectivas penas.\\n\\n**C\\303\\263digo de Processo Civil**\\n\\n* Lei que estabelece as normas para o processo judicial c\\303\\255vel.\\n\\n**C\\303\\263digo de Processo Penal**\\n\\n* Lei que estabelece as normas para o processo judicial penal.\\n\\n**Legisla\\303\\247\\303\\243o Trabalhista**\\n\\n* Conjunto de leis que regulam as rela\\303\\247\\303\\265es entre empregadores e empregados, como a Consolida\\303\\247\\303\\243o das Leis do Trabalho (CLT).\\n\\n**Legisla\\303\\247\\303\\243o Tribut\\303\\241ria**\\n\\n* Conjunto de leis que regulam os tributos, como o C\\303\\263digo Tribut\\303\\241rio Nacional (CTN).\\n\\n**Legisla\\303\\247\\303\\243o Ambiental**\\n\\n* Conjunto de leis que regulam a prote\\303\\247\\303\\243o ao meio ambiente, como a Lei de Crimes Ambientais.\\n\\n**Legisla\\303\\247\\303\\243o Eleitoral**\\n\\n* Conjunto de leis que regulam as elei\\303\\247\\303\\265es e o processo eleitoral.\\n\\n**Legisla\\303\\247\\303\\243o Administrativa**\\n\\n* Conjunto de leis que regulam a administra\\303\\247\\303\\243o p\\303\\272blica, como a Lei de Licita\\303\\247\\303\\265es e Contratos.\\n\\n**Legisla\\303\\247\\303\\243o Internacional**\\n\\n* Tratados e conven\\303\\247\\303\\265es internacionais que o Brasil ratificou e que fazem parte do ordenamento jur\\303\\255dico brasileiro.\\n\\n**Princ\\303\\255pios Gerais do Direito**\\n\\n* Princ\\303\\255pios fundamentais que orientam a interpreta\\303\\247\\303\\243o e aplica\\303\\247\\303\\243o das leis, como o princ\\303\\255pio da legalidade, o princ\\303\\255pio da igualdade e o princ\\303\\255pio da proporcionalidade.\\n\\n**Fontes do Direito**\\n\\n* Leis, decretos, tratados, costumes e jurisprud\\303\\252ncia.\\n\\n**Interpreta\\303\\247\\303\\243o da Lei**\\n\\n* Processo de compreens\\303\\243o e aplica\\303\\247\\303\\243o das leis, que pode ser literal, sistem\\303\\241tica, hist\\303\\263rica ou teleol\\303\\263gica.\\n\\n**Hierarquia das Normas**\\n\\n* Ordem de import\\303\\242ncia das normas jur\\303\\255dicas, com a Constitui\\303\\247\\303\\243o Federal no topo.\"\n",
              " }\n",
              " role: \"model\",\n",
              " parts {\n",
              "   text: \"Legisla\\303\\247\\303\\243o tribut\\303\\241ria\"\n",
              " }\n",
              " role: \"user\",\n",
              " parts {\n",
              "   text: \"**Legisla\\303\\247\\303\\243o Tribut\\303\\241ria Brasileira**\\n\\n**Constitui\\303\\247\\303\\243o Federal de 1988**\\n\\n* Estabelece os princ\\303\\255pios gerais do sistema tribut\\303\\241rio brasileiro, como a legalidade, a isonomia e a capacidade contributiva.\\n\\n**C\\303\\263digo Tribut\\303\\241rio Nacional (CTN)**\\n\\n* Lei que regulamenta o sistema tribut\\303\\241rio brasileiro, definindo conceitos, princ\\303\\255pios e normas gerais.\\n\\n**Leis Complementares**\\n\\n* Leis que complementam o CTN, como a Lei Complementar 87/1996 (ICMS) e a Lei Complementar 105/2001 (IPTU).\\n\\n**Leis Ordin\\303\\241rias**\\n\\n* Leis que criam ou alteram tributos, como a Lei 9.430/1996 (IRPF).\\n\\n**Medidas Provis\\303\\263rias**\\n\\n* Atos normativos com for\\303\\247a de lei que podem tratar de mat\\303\\251ria tribut\\303\\241ria.\\n\\n**Decretos**\\n\\n* Atos normativos do Poder Executivo que podem regulamentar mat\\303\\251ria tribut\\303\\241ria.\\n\\n**Portarias**\\n\\n* Atos normativos de \\303\\263rg\\303\\243os administrativos que podem esclarecer ou complementar normas tribut\\303\\241rias.\\n\\n**Principais Tributos**\\n\\n* **Impostos:** IRPF, IRPJ, IPI, ICMS, ISS, ITR, IOF\\n* **Contribui\\303\\247\\303\\265es:** INSS, PIS, COFINS, CSLL\\n* **Taxas:** Taxas de servi\\303\\247os p\\303\\272blicos\\n\\n**Princ\\303\\255pios do Sistema Tribut\\303\\241rio**\\n\\n* **Legalidade:** Os tributos s\\303\\263 podem ser criados ou alterados por lei.\\n* **Isonomia:** Todos os contribuintes devem ser tratados igualmente perante a lei tribut\\303\\241ria.\\n* **Capacidade Contributiva:** Os tributos devem ser proporcionais \\303\\240 capacidade econ\\303\\264mica do contribuinte.\\n* **N\\303\\243o Confisco:** Os tributos n\\303\\243o podem confiscar a propriedade do contribuinte.\\n* **Finalidade:** Os tributos devem ser destinados ao financiamento das despesas p\\303\\272blicas.\\n\\n**Interpreta\\303\\247\\303\\243o da Legisla\\303\\247\\303\\243o Tribut\\303\\241ria**\\n\\n* Deve ser interpretada de forma literal, sistem\\303\\241tica e teleol\\303\\263gica, sempre buscando a aplica\\303\\247\\303\\243o dos princ\\303\\255pios tribut\\303\\241rios.\\n\\n**Hierarquia das Normas Tribut\\303\\241rias**\\n\\n* Constitui\\303\\247\\303\\243o Federal > Leis Complementares > Leis Ordin\\303\\241rias > Medidas Provis\\303\\263rias > Decretos > Portarias\"\n",
              " }\n",
              " role: \"model\"]"
            ]
          },
          "metadata": {},
          "execution_count": 21
        }
      ]
    },
    {
      "cell_type": "code",
      "source": [
        "#Imprimindo o histórico\n",
        "for message in chat.history:\n",
        "  display(to_markdown(f'**{message.role}**: {message.parts[0].text}'))\n",
        "  print('-------------------------------------------')"
      ],
      "metadata": {
        "colab": {
          "base_uri": "https://localhost:8080/",
          "height": 1000
        },
        "id": "gaYU1rZTYjDz",
        "outputId": "0ff16d7d-2f4d-4574-d09b-7ee4274968b1"
      },
      "execution_count": 22,
      "outputs": [
        {
          "output_type": "display_data",
          "data": {
            "text/plain": [
              "<IPython.core.display.Markdown object>"
            ],
            "text/markdown": "> **user**: conhecimentos de legislação"
          },
          "metadata": {}
        },
        {
          "output_type": "stream",
          "name": "stdout",
          "text": [
            "-------------------------------------------\n"
          ]
        },
        {
          "output_type": "display_data",
          "data": {
            "text/plain": [
              "<IPython.core.display.Markdown object>"
            ],
            "text/markdown": "> **model**: **Legislação Brasileira**\n> \n> **Constituição Federal de 1988**\n> \n> * Lei fundamental do Brasil, que estabelece os direitos e deveres dos cidadãos, a organização do Estado e os princípios do ordenamento jurídico.\n> \n> **Código Civil**\n> \n> * Lei que regula as relações privadas entre indivíduos, como contratos, família e propriedade.\n> \n> **Código Penal**\n> \n> * Lei que define os crimes e as respectivas penas.\n> \n> **Código de Processo Civil**\n> \n> * Lei que estabelece as normas para o processo judicial cível.\n> \n> **Código de Processo Penal**\n> \n> * Lei que estabelece as normas para o processo judicial penal.\n> \n> **Legislação Trabalhista**\n> \n> * Conjunto de leis que regulam as relações entre empregadores e empregados, como a Consolidação das Leis do Trabalho (CLT).\n> \n> **Legislação Tributária**\n> \n> * Conjunto de leis que regulam os tributos, como o Código Tributário Nacional (CTN).\n> \n> **Legislação Ambiental**\n> \n> * Conjunto de leis que regulam a proteção ao meio ambiente, como a Lei de Crimes Ambientais.\n> \n> **Legislação Eleitoral**\n> \n> * Conjunto de leis que regulam as eleições e o processo eleitoral.\n> \n> **Legislação Administrativa**\n> \n> * Conjunto de leis que regulam a administração pública, como a Lei de Licitações e Contratos.\n> \n> **Legislação Internacional**\n> \n> * Tratados e convenções internacionais que o Brasil ratificou e que fazem parte do ordenamento jurídico brasileiro.\n> \n> **Princípios Gerais do Direito**\n> \n> * Princípios fundamentais que orientam a interpretação e aplicação das leis, como o princípio da legalidade, o princípio da igualdade e o princípio da proporcionalidade.\n> \n> **Fontes do Direito**\n> \n> * Leis, decretos, tratados, costumes e jurisprudência.\n> \n> **Interpretação da Lei**\n> \n> * Processo de compreensão e aplicação das leis, que pode ser literal, sistemática, histórica ou teleológica.\n> \n> **Hierarquia das Normas**\n> \n> * Ordem de importância das normas jurídicas, com a Constituição Federal no topo."
          },
          "metadata": {}
        },
        {
          "output_type": "stream",
          "name": "stdout",
          "text": [
            "-------------------------------------------\n"
          ]
        },
        {
          "output_type": "display_data",
          "data": {
            "text/plain": [
              "<IPython.core.display.Markdown object>"
            ],
            "text/markdown": "> **user**: Legislação tributária"
          },
          "metadata": {}
        },
        {
          "output_type": "stream",
          "name": "stdout",
          "text": [
            "-------------------------------------------\n"
          ]
        },
        {
          "output_type": "display_data",
          "data": {
            "text/plain": [
              "<IPython.core.display.Markdown object>"
            ],
            "text/markdown": "> **model**: **Legislação Tributária Brasileira**\n> \n> **Constituição Federal de 1988**\n> \n> * Estabelece os princípios gerais do sistema tributário brasileiro, como a legalidade, a isonomia e a capacidade contributiva.\n> \n> **Código Tributário Nacional (CTN)**\n> \n> * Lei que regulamenta o sistema tributário brasileiro, definindo conceitos, princípios e normas gerais.\n> \n> **Leis Complementares**\n> \n> * Leis que complementam o CTN, como a Lei Complementar 87/1996 (ICMS) e a Lei Complementar 105/2001 (IPTU).\n> \n> **Leis Ordinárias**\n> \n> * Leis que criam ou alteram tributos, como a Lei 9.430/1996 (IRPF).\n> \n> **Medidas Provisórias**\n> \n> * Atos normativos com força de lei que podem tratar de matéria tributária.\n> \n> **Decretos**\n> \n> * Atos normativos do Poder Executivo que podem regulamentar matéria tributária.\n> \n> **Portarias**\n> \n> * Atos normativos de órgãos administrativos que podem esclarecer ou complementar normas tributárias.\n> \n> **Principais Tributos**\n> \n> * **Impostos:** IRPF, IRPJ, IPI, ICMS, ISS, ITR, IOF\n> * **Contribuições:** INSS, PIS, COFINS, CSLL\n> * **Taxas:** Taxas de serviços públicos\n> \n> **Princípios do Sistema Tributário**\n> \n> * **Legalidade:** Os tributos só podem ser criados ou alterados por lei.\n> * **Isonomia:** Todos os contribuintes devem ser tratados igualmente perante a lei tributária.\n> * **Capacidade Contributiva:** Os tributos devem ser proporcionais à capacidade econômica do contribuinte.\n> * **Não Confisco:** Os tributos não podem confiscar a propriedade do contribuinte.\n> * **Finalidade:** Os tributos devem ser destinados ao financiamento das despesas públicas.\n> \n> **Interpretação da Legislação Tributária**\n> \n> * Deve ser interpretada de forma literal, sistemática e teleológica, sempre buscando a aplicação dos princípios tributários.\n> \n> **Hierarquia das Normas Tributárias**\n> \n> * Constituição Federal > Leis Complementares > Leis Ordinárias > Medidas Provisórias > Decretos > Portarias"
          },
          "metadata": {}
        },
        {
          "output_type": "stream",
          "name": "stdout",
          "text": [
            "-------------------------------------------\n"
          ]
        }
      ]
    }
  ]
}